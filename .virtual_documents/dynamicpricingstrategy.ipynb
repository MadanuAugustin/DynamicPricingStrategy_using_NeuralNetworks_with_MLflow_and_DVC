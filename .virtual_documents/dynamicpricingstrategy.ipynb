





import pandas as pd
import numpy as np
import seaborn as sns
import matplotlib.pyplot as plt
import warnings
warnings.filterwarnings('ignore')
pd.set_option('display.max_rows', 10000)
pd.set_option('display.max_columns', 10000)
import plotly.express as px
import plotly.graph_objects as go





data = pd.read_csv('dynamic_pricing.csv')


data.head()











data.shape





data.columns





data.dtypes





data.info()





data.describe().T








data.isnull().sum()





data.duplicated().sum()





fig = px.scatter(data, x = 'Expected_Ride_Duration', y = 'Historical_Cost_of_Ride', title = 'Expected Ride Duration vs. Historical Cost of Ride', trendline = 'ols')

fig.show()








plt.figure(figsize = (15, 5))
plt.suptitle('Historical Cost of Ride Distribution by Vehicle Type')
sns.boxplot(data = data, x = 'Vehicle_Type', y = 'Historical_Cost_of_Ride')
plt.show()





plt.figure(figsize = (15, 5))
plt.suptitle('Correlation between features')
sns.heatmap(data = data.corr(numeric_only = True))
plt.show()











data.head(2)








high_demand_percentile = 75
low_demand_percentile = 25





data['demand_multiplier'] = np.where(data['Number_of_Riders'] > np.percentile(data['Number_of_Riders'], high_demand_percentile),
                                    data['Number_of_Riders'] / np.percentile(data['Number_of_Riders'], high_demand_percentile),
                                    data['Number_of_Riders'] / np.percentile(data['Number_of_Riders'], low_demand_percentile))








high_supply_percentile = 75
low_supply_percentile = 25





data['supply_multiplier'] = np.where(data['Number_of_Drivers'] > np.percentile(data['Number_of_Drivers'], low_supply_percentile),
                                     np.percentile(data['Number_of_Drivers'], high_supply_percentile) / data['Number_of_Drivers'],
                                     np.percentile(data['Number_of_Drivers'], low_supply_percentile) / data['Number_of_Drivers'])








demand_threshold_high = 1.2
demand_threshold_low = 0.8
supply_threshold_high = 0.8
supply_threshold_low = 1.2





data['adjusted_ride_cost'] = data['Historical_Cost_of_Ride'] * (np.maximum(data['demand_multiplier'], demand_threshold_low) * np.maximum(data['supply_multiplier'], supply_threshold_high))





data.head()














### calculating the profit percentage for each ride

data['profit_percentage'] = ((data['adjusted_ride_cost'] - data['Historical_Cost_of_Ride']) / data['Historical_Cost_of_Ride']) * 100





### identifying the profitable rides where profit percentage is positive

profitable_rides = data[data['profit_percentage'] > 0]





### identifying the loss rides where profit percentage is negative

loss_rides = data[data['profit_percentage'] < 0]





values = [len(profitable_rides), len(loss_rides)]


values


import matplotlib.pyplot as plt


plt.figure(figsize =(10, 5))
plt.title('profit and loss percentage')
plt.pie(values, labels = ['profitable rides', 'loss rides'], autopct = '%.2f%%')
plt.show()











import seaborn as sns


plt.figure(figsize=(10, 5))
plt.title('Ride duration Vs Ride cost')
sns.scatterplot(data = data , x = 'Expected_Ride_Duration', y = 'adjusted_ride_cost')
plt.show()




















def data_preprocessing_pipeline(data):
    
    # identifying numeric and categorical features
    
    numeric_features = data.select_dtypes(include=['float', 'int']).columns
    categorical_features = data.select_dtypes(include=['object']).columns

    # handling missing values in numerical features

    data[numeric_features] = data[numeric_features].fillna(data[numeric_features].mean())

    # handling missing values in categorical features

    data[categorical_features] = data[categorical_features].fillna(data[categorical_features].mode().iloc[0])

    # detecting and handling outliers in numeric features using IQR

    for feature in numeric_features:
        Q1 = data[feature].quantile(0.25)
        Q3 = data[feature].quantile(0.75)
        IQR = Q3 - Q1
        lower_bound = Q1 - (1.5 * IQR)
        upper_bound = Q3 - (1.5 * IQR)
        data[feature] = np.where((data[feature] < lower_bound) | (data[feature] > upper_bound), data[feature].mean(), data[feature])


    return data








data['Vehicle_Type'] = data['Vehicle_Type'].map({'Premium' : 1, 'Economy' : 0})


data.head()











from sklearn.model_selection import train_test_split


x = data[["Number_of_Riders", "Number_of_Drivers", "Vehicle_Type", "Expected_Ride_Duration"]]


y = data[['adjusted_ride_cost']]


X_train, X_test, y_train, y_test = train_test_split(x, y, test_size = 0.2, random_state = 42)


X_train.shape, X_test.shape, y_train.shape, y_test.shape





from keras.models import Sequential
from keras.layers import Dense, LSTM
model = Sequential()
model.add(LSTM(128, return_sequences=True, input_shape= (X_train.shape[1], 1)))
model.add(LSTM(64, return_sequences=False))
model.add(Dense(25))
model.add(Dense(1))
model.summary()





model.compile(optimizer = 'adam', loss = 'mean_squared_error')


history = model.fit(X_train, y_train, batch_size = 1, epochs = 30)





plt.plot(history.history['loss'])
#plt.plot(history.history['val_loss'])
plt.title('model loss')
plt.ylabel('loss')
plt.xlabel('epoch')
plt.legend(['train'], loc='upper left')
plt.show()





y_pred = model.predict(X_test)


from sklearn.metrics import , mean_squared_error


mean_squared_error(y_test, y_pred)


X_test.head()


y_test.head()





model.predict([[38, 8, 0, 114]])


data.head()


data.to_csv('dynamicPricingStrategy.csv', header = True, index = False)



